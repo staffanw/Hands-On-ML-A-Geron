{
  "nbformat": 4,
  "nbformat_minor": 0,
  "metadata": {
    "colab": {
      "provenance": [],
      "authorship_tag": "ABX9TyPgK+OuNAqBW4T9HjT47a+S",
      "include_colab_link": true
    },
    "kernelspec": {
      "name": "python3",
      "display_name": "Python 3"
    },
    "language_info": {
      "name": "python"
    }
  },
  "cells": [
    {
      "cell_type": "markdown",
      "metadata": {
        "id": "view-in-github",
        "colab_type": "text"
      },
      "source": [
        "<a href=\"https://colab.research.google.com/github/staffanw/Hands-On-ML-A-Geron/blob/main/kaggle_chocolate_sales.ipynb\" target=\"_parent\"><img src=\"https://colab.research.google.com/assets/colab-badge.svg\" alt=\"Open In Colab\"/></a>"
      ]
    },
    {
      "cell_type": "code",
      "execution_count": 1,
      "metadata": {
        "id": "QeF2kcUbRpK2"
      },
      "outputs": [],
      "source": [
        "import sys\n",
        "assert sys.version_info >= (3, 7)\n",
        "from packaging import version\n",
        "import sklearn\n",
        "assert version.parse(sklearn.__version__) >= version.parse(\"1.0.1\")\n",
        "import os\n",
        "import pandas as pd\n",
        "from zipfile import ZipFile\n",
        "chocolateDf = pd.DataFrame()\n"
      ]
    },
    {
      "cell_type": "code",
      "source": [
        "# Step 1: Authenticate\n",
        "# Place kaggle.json in ~/.kaggle/ or set these environment variables\n",
        "os.environ['KAGGLE_USERNAME'] = 'staffanwinter'\n",
        "os.environ['KAGGLE_KEY'] = '636629f94693fac27f01438b51f0fe0b'\n",
        "\n",
        "# Step 2: Download the dataset\n",
        "!kaggle datasets download -d atharvasoundankar/chocolate-sales -p data --unzip\n",
        "\n",
        "# Step 3: Check the file name\n",
        "print(os.listdir(\"data\"))\n",
        "\n",
        "# Step 4: Load into pandas\n",
        "chocolateDf = pd.read_csv(\"data/Chocolate Sales.csv\")  # Update this filename if it's different\n",
        "print(chocolateDf.head(10))"
      ],
      "metadata": {
        "id": "qlSWRN_jRsWn",
        "outputId": "498f6815-7d5e-4926-c9fc-514a5749df3b",
        "colab": {
          "base_uri": "https://localhost:8080/"
        }
      },
      "execution_count": 12,
      "outputs": [
        {
          "output_type": "stream",
          "name": "stdout",
          "text": [
            "Dataset URL: https://www.kaggle.com/datasets/atharvasoundankar/chocolate-sales\n",
            "License(s): MIT\n",
            "['Chocolate Sales.csv']\n",
            "      Sales Person      Country              Product       Date    Amount  \\\n",
            "0   Jehu Rudeforth           UK      Mint Chip Choco  04-Jan-22   $5,320    \n",
            "1      Van Tuxwell        India        85% Dark Bars  01-Aug-22   $7,896    \n",
            "2     Gigi Bohling        India  Peanut Butter Cubes  07-Jul-22   $4,501    \n",
            "3     Jan Morforth    Australia  Peanut Butter Cubes  27-Apr-22  $12,726    \n",
            "4   Jehu Rudeforth           UK  Peanut Butter Cubes  24-Feb-22  $13,685    \n",
            "5      Van Tuxwell        India   Smooth Sliky Salty  06-Jun-22   $5,376    \n",
            "6       Oby Sorrel           UK      99% Dark & Pure  25-Jan-22  $13,685    \n",
            "7  Gunar Cockshoot    Australia          After Nines  24-Mar-22   $3,080    \n",
            "8   Jehu Rudeforth  New Zealand       50% Dark Bites  20-Apr-22   $3,990    \n",
            "9      Brien Boise    Australia      99% Dark & Pure  04-Jul-22   $2,835    \n",
            "\n",
            "   Boxes Shipped  \n",
            "0            180  \n",
            "1             94  \n",
            "2             91  \n",
            "3            342  \n",
            "4            184  \n",
            "5             38  \n",
            "6            176  \n",
            "7             73  \n",
            "8             59  \n",
            "9            102  \n"
          ]
        }
      ]
    },
    {
      "cell_type": "code",
      "source": [
        "chocolateDf.keys()\n",
        "len(chocolateDf)"
      ],
      "metadata": {
        "id": "8dNfsYas3PYB",
        "outputId": "70af8671-6606-4e99-fb0d-84f410044a6d",
        "colab": {
          "base_uri": "https://localhost:8080/"
        }
      },
      "execution_count": 13,
      "outputs": [
        {
          "output_type": "execute_result",
          "data": {
            "text/plain": [
              "1094"
            ]
          },
          "metadata": {},
          "execution_count": 13
        }
      ]
    },
    {
      "cell_type": "code",
      "source": [
        "chocolateDf.info()\n"
      ],
      "metadata": {
        "id": "YPlUQ5XASLn6",
        "outputId": "ae23e959-0dd4-4006-9f64-b3cf0f07e1ad",
        "colab": {
          "base_uri": "https://localhost:8080/"
        }
      },
      "execution_count": 14,
      "outputs": [
        {
          "output_type": "stream",
          "name": "stdout",
          "text": [
            "<class 'pandas.core.frame.DataFrame'>\n",
            "RangeIndex: 1094 entries, 0 to 1093\n",
            "Data columns (total 6 columns):\n",
            " #   Column         Non-Null Count  Dtype \n",
            "---  ------         --------------  ----- \n",
            " 0   Sales Person   1094 non-null   object\n",
            " 1   Country        1094 non-null   object\n",
            " 2   Product        1094 non-null   object\n",
            " 3   Date           1094 non-null   object\n",
            " 4   Amount         1094 non-null   object\n",
            " 5   Boxes Shipped  1094 non-null   int64 \n",
            "dtypes: int64(1), object(5)\n",
            "memory usage: 51.4+ KB\n"
          ]
        }
      ]
    },
    {
      "cell_type": "code",
      "source": [
        "chocolateDf.value_counts()"
      ],
      "metadata": {
        "id": "etW7GAei38bp",
        "outputId": "32c99159-46fb-479c-c832-e829000d6c8a",
        "colab": {
          "base_uri": "https://localhost:8080/",
          "height": 490
        }
      },
      "execution_count": 28,
      "outputs": [
        {
          "output_type": "execute_result",
          "data": {
            "text/plain": [
              "Sales Person    Country    Product               Date       Amount    Boxes Shipped  part \n",
              "Wilone O'Kielt  USA        Smooth Sliky Salty    18-Jan-22  $504      87             0.178    1\n",
              "Andria Kimpton  Australia  50% Dark Bites        02-Jun-22  $4,438    227            0.014    1\n",
              "                           85% Dark Bars         23-Aug-22  $4,186    233            0.014    1\n",
              "                           Almond Choco          25-Apr-22  $3,192    175            0.014    1\n",
              "                           Baker's Choco Chips   09-Aug-22  $329      109            0.014    1\n",
              "                                                                                             ..\n",
              "                Canada     Eclairs               11-Aug-22  $308      125            0.021    1\n",
              "                           Caramel Stuffed Bars  03-Jan-22  $7,154    348            0.021    1\n",
              "                           After Nines           11-May-22  $2,163    70             0.021    1\n",
              "                           70% Dark Bites        08-Apr-22  $10,262   15             0.021    1\n",
              "                Australia  Peanut Butter Cubes   20-Apr-22  $6,678    148            0.014    1\n",
              "Name: count, Length: 1094, dtype: int64"
            ],
            "text/html": [
              "<div>\n",
              "<style scoped>\n",
              "    .dataframe tbody tr th:only-of-type {\n",
              "        vertical-align: middle;\n",
              "    }\n",
              "\n",
              "    .dataframe tbody tr th {\n",
              "        vertical-align: top;\n",
              "    }\n",
              "\n",
              "    .dataframe thead th {\n",
              "        text-align: right;\n",
              "    }\n",
              "</style>\n",
              "<table border=\"1\" class=\"dataframe\">\n",
              "  <thead>\n",
              "    <tr style=\"text-align: right;\">\n",
              "      <th></th>\n",
              "      <th></th>\n",
              "      <th></th>\n",
              "      <th></th>\n",
              "      <th></th>\n",
              "      <th></th>\n",
              "      <th></th>\n",
              "      <th>count</th>\n",
              "    </tr>\n",
              "    <tr>\n",
              "      <th>Sales Person</th>\n",
              "      <th>Country</th>\n",
              "      <th>Product</th>\n",
              "      <th>Date</th>\n",
              "      <th>Amount</th>\n",
              "      <th>Boxes Shipped</th>\n",
              "      <th>part</th>\n",
              "      <th></th>\n",
              "    </tr>\n",
              "  </thead>\n",
              "  <tbody>\n",
              "    <tr>\n",
              "      <th>Wilone O'Kielt</th>\n",
              "      <th>USA</th>\n",
              "      <th>Smooth Sliky Salty</th>\n",
              "      <th>18-Jan-22</th>\n",
              "      <th>$504</th>\n",
              "      <th>87</th>\n",
              "      <th>0.178</th>\n",
              "      <td>1</td>\n",
              "    </tr>\n",
              "    <tr>\n",
              "      <th rowspan=\"10\" valign=\"top\">Andria Kimpton</th>\n",
              "      <th rowspan=\"4\" valign=\"top\">Australia</th>\n",
              "      <th>50% Dark Bites</th>\n",
              "      <th>02-Jun-22</th>\n",
              "      <th>$4,438</th>\n",
              "      <th>227</th>\n",
              "      <th>0.014</th>\n",
              "      <td>1</td>\n",
              "    </tr>\n",
              "    <tr>\n",
              "      <th>85% Dark Bars</th>\n",
              "      <th>23-Aug-22</th>\n",
              "      <th>$4,186</th>\n",
              "      <th>233</th>\n",
              "      <th>0.014</th>\n",
              "      <td>1</td>\n",
              "    </tr>\n",
              "    <tr>\n",
              "      <th>Almond Choco</th>\n",
              "      <th>25-Apr-22</th>\n",
              "      <th>$3,192</th>\n",
              "      <th>175</th>\n",
              "      <th>0.014</th>\n",
              "      <td>1</td>\n",
              "    </tr>\n",
              "    <tr>\n",
              "      <th>Baker's Choco Chips</th>\n",
              "      <th>09-Aug-22</th>\n",
              "      <th>$329</th>\n",
              "      <th>109</th>\n",
              "      <th>0.014</th>\n",
              "      <td>1</td>\n",
              "    </tr>\n",
              "    <tr>\n",
              "      <th>...</th>\n",
              "      <th>...</th>\n",
              "      <th>...</th>\n",
              "      <th>...</th>\n",
              "      <th>...</th>\n",
              "      <th>...</th>\n",
              "      <td>...</td>\n",
              "    </tr>\n",
              "    <tr>\n",
              "      <th rowspan=\"4\" valign=\"top\">Canada</th>\n",
              "      <th>Eclairs</th>\n",
              "      <th>11-Aug-22</th>\n",
              "      <th>$308</th>\n",
              "      <th>125</th>\n",
              "      <th>0.021</th>\n",
              "      <td>1</td>\n",
              "    </tr>\n",
              "    <tr>\n",
              "      <th>Caramel Stuffed Bars</th>\n",
              "      <th>03-Jan-22</th>\n",
              "      <th>$7,154</th>\n",
              "      <th>348</th>\n",
              "      <th>0.021</th>\n",
              "      <td>1</td>\n",
              "    </tr>\n",
              "    <tr>\n",
              "      <th>After Nines</th>\n",
              "      <th>11-May-22</th>\n",
              "      <th>$2,163</th>\n",
              "      <th>70</th>\n",
              "      <th>0.021</th>\n",
              "      <td>1</td>\n",
              "    </tr>\n",
              "    <tr>\n",
              "      <th>70% Dark Bites</th>\n",
              "      <th>08-Apr-22</th>\n",
              "      <th>$10,262</th>\n",
              "      <th>15</th>\n",
              "      <th>0.021</th>\n",
              "      <td>1</td>\n",
              "    </tr>\n",
              "    <tr>\n",
              "      <th>Australia</th>\n",
              "      <th>Peanut Butter Cubes</th>\n",
              "      <th>20-Apr-22</th>\n",
              "      <th>$6,678</th>\n",
              "      <th>148</th>\n",
              "      <th>0.014</th>\n",
              "      <td>1</td>\n",
              "    </tr>\n",
              "  </tbody>\n",
              "</table>\n",
              "<p>1094 rows × 1 columns</p>\n",
              "</div><br><label><b>dtype:</b> int64</label>"
            ]
          },
          "metadata": {},
          "execution_count": 28
        }
      ]
    },
    {
      "cell_type": "code",
      "source": [
        "chocolateDf.value_counts(\"Country\")\n"
      ],
      "metadata": {
        "id": "8ytHgjOCSToU",
        "outputId": "f7f50003-2a75-40c7-e20d-467839a39a5f",
        "colab": {
          "base_uri": "https://localhost:8080/",
          "height": 304
        }
      },
      "execution_count": 23,
      "outputs": [
        {
          "output_type": "execute_result",
          "data": {
            "text/plain": [
              "Country\n",
              "Australia      205\n",
              "India          184\n",
              "USA            179\n",
              "UK             178\n",
              "Canada         175\n",
              "New Zealand    173\n",
              "Name: count, dtype: int64"
            ],
            "text/html": [
              "<div>\n",
              "<style scoped>\n",
              "    .dataframe tbody tr th:only-of-type {\n",
              "        vertical-align: middle;\n",
              "    }\n",
              "\n",
              "    .dataframe tbody tr th {\n",
              "        vertical-align: top;\n",
              "    }\n",
              "\n",
              "    .dataframe thead th {\n",
              "        text-align: right;\n",
              "    }\n",
              "</style>\n",
              "<table border=\"1\" class=\"dataframe\">\n",
              "  <thead>\n",
              "    <tr style=\"text-align: right;\">\n",
              "      <th></th>\n",
              "      <th>count</th>\n",
              "    </tr>\n",
              "    <tr>\n",
              "      <th>Country</th>\n",
              "      <th></th>\n",
              "    </tr>\n",
              "  </thead>\n",
              "  <tbody>\n",
              "    <tr>\n",
              "      <th>Australia</th>\n",
              "      <td>205</td>\n",
              "    </tr>\n",
              "    <tr>\n",
              "      <th>India</th>\n",
              "      <td>184</td>\n",
              "    </tr>\n",
              "    <tr>\n",
              "      <th>USA</th>\n",
              "      <td>179</td>\n",
              "    </tr>\n",
              "    <tr>\n",
              "      <th>UK</th>\n",
              "      <td>178</td>\n",
              "    </tr>\n",
              "    <tr>\n",
              "      <th>Canada</th>\n",
              "      <td>175</td>\n",
              "    </tr>\n",
              "    <tr>\n",
              "      <th>New Zealand</th>\n",
              "      <td>173</td>\n",
              "    </tr>\n",
              "  </tbody>\n",
              "</table>\n",
              "</div><br><label><b>dtype:</b> int64</label>"
            ]
          },
          "metadata": {},
          "execution_count": 23
        }
      ]
    },
    {
      "cell_type": "code",
      "source": [
        "country_to_part = {\n",
        "\t'Australia': 0.014,\n",
        "\t'India':  0.750,\n",
        "\t'USA': 0.178,\n",
        "\t'UK': 0.036,\n",
        "\t'Canada' : 0.021,\n",
        "\t'New Zealand': 0.003\n",
        "}\n",
        "\n",
        "chocolateDf['part'] = chocolateDf['Country'].map(country_to_part)"
      ],
      "metadata": {
        "id": "DKK2gYmC7JRf"
      },
      "execution_count": 25,
      "outputs": []
    },
    {
      "cell_type": "code",
      "source": [
        "chocolateDf.value_counts(\"Product\")"
      ],
      "metadata": {
        "id": "rH8sYxnd6qGp"
      },
      "execution_count": null,
      "outputs": []
    },
    {
      "cell_type": "code",
      "source": [
        "chocolateDf.describe()"
      ],
      "metadata": {
        "id": "_i4dGmddSau0",
        "outputId": "b1db9e57-c08a-4b41-b4bb-808a0db22169",
        "colab": {
          "base_uri": "https://localhost:8080/",
          "height": 300
        }
      },
      "execution_count": 26,
      "outputs": [
        {
          "output_type": "execute_result",
          "data": {
            "text/plain": [
              "       Boxes Shipped         part\n",
              "count    1094.000000  1094.000000\n",
              "mean      161.797989     0.167581\n",
              "std       121.544145     0.268501\n",
              "min         1.000000     0.003000\n",
              "25%        70.000000     0.014000\n",
              "50%       135.000000     0.021000\n",
              "75%       228.750000     0.178000\n",
              "max       709.000000     0.750000"
            ],
            "text/html": [
              "\n",
              "  <div id=\"df-33e1525c-389d-495e-ac30-14a7f4b47961\" class=\"colab-df-container\">\n",
              "    <div>\n",
              "<style scoped>\n",
              "    .dataframe tbody tr th:only-of-type {\n",
              "        vertical-align: middle;\n",
              "    }\n",
              "\n",
              "    .dataframe tbody tr th {\n",
              "        vertical-align: top;\n",
              "    }\n",
              "\n",
              "    .dataframe thead th {\n",
              "        text-align: right;\n",
              "    }\n",
              "</style>\n",
              "<table border=\"1\" class=\"dataframe\">\n",
              "  <thead>\n",
              "    <tr style=\"text-align: right;\">\n",
              "      <th></th>\n",
              "      <th>Boxes Shipped</th>\n",
              "      <th>part</th>\n",
              "    </tr>\n",
              "  </thead>\n",
              "  <tbody>\n",
              "    <tr>\n",
              "      <th>count</th>\n",
              "      <td>1094.000000</td>\n",
              "      <td>1094.000000</td>\n",
              "    </tr>\n",
              "    <tr>\n",
              "      <th>mean</th>\n",
              "      <td>161.797989</td>\n",
              "      <td>0.167581</td>\n",
              "    </tr>\n",
              "    <tr>\n",
              "      <th>std</th>\n",
              "      <td>121.544145</td>\n",
              "      <td>0.268501</td>\n",
              "    </tr>\n",
              "    <tr>\n",
              "      <th>min</th>\n",
              "      <td>1.000000</td>\n",
              "      <td>0.003000</td>\n",
              "    </tr>\n",
              "    <tr>\n",
              "      <th>25%</th>\n",
              "      <td>70.000000</td>\n",
              "      <td>0.014000</td>\n",
              "    </tr>\n",
              "    <tr>\n",
              "      <th>50%</th>\n",
              "      <td>135.000000</td>\n",
              "      <td>0.021000</td>\n",
              "    </tr>\n",
              "    <tr>\n",
              "      <th>75%</th>\n",
              "      <td>228.750000</td>\n",
              "      <td>0.178000</td>\n",
              "    </tr>\n",
              "    <tr>\n",
              "      <th>max</th>\n",
              "      <td>709.000000</td>\n",
              "      <td>0.750000</td>\n",
              "    </tr>\n",
              "  </tbody>\n",
              "</table>\n",
              "</div>\n",
              "    <div class=\"colab-df-buttons\">\n",
              "\n",
              "  <div class=\"colab-df-container\">\n",
              "    <button class=\"colab-df-convert\" onclick=\"convertToInteractive('df-33e1525c-389d-495e-ac30-14a7f4b47961')\"\n",
              "            title=\"Convert this dataframe to an interactive table.\"\n",
              "            style=\"display:none;\">\n",
              "\n",
              "  <svg xmlns=\"http://www.w3.org/2000/svg\" height=\"24px\" viewBox=\"0 -960 960 960\">\n",
              "    <path d=\"M120-120v-720h720v720H120Zm60-500h600v-160H180v160Zm220 220h160v-160H400v160Zm0 220h160v-160H400v160ZM180-400h160v-160H180v160Zm440 0h160v-160H620v160ZM180-180h160v-160H180v160Zm440 0h160v-160H620v160Z\"/>\n",
              "  </svg>\n",
              "    </button>\n",
              "\n",
              "  <style>\n",
              "    .colab-df-container {\n",
              "      display:flex;\n",
              "      gap: 12px;\n",
              "    }\n",
              "\n",
              "    .colab-df-convert {\n",
              "      background-color: #E8F0FE;\n",
              "      border: none;\n",
              "      border-radius: 50%;\n",
              "      cursor: pointer;\n",
              "      display: none;\n",
              "      fill: #1967D2;\n",
              "      height: 32px;\n",
              "      padding: 0 0 0 0;\n",
              "      width: 32px;\n",
              "    }\n",
              "\n",
              "    .colab-df-convert:hover {\n",
              "      background-color: #E2EBFA;\n",
              "      box-shadow: 0px 1px 2px rgba(60, 64, 67, 0.3), 0px 1px 3px 1px rgba(60, 64, 67, 0.15);\n",
              "      fill: #174EA6;\n",
              "    }\n",
              "\n",
              "    .colab-df-buttons div {\n",
              "      margin-bottom: 4px;\n",
              "    }\n",
              "\n",
              "    [theme=dark] .colab-df-convert {\n",
              "      background-color: #3B4455;\n",
              "      fill: #D2E3FC;\n",
              "    }\n",
              "\n",
              "    [theme=dark] .colab-df-convert:hover {\n",
              "      background-color: #434B5C;\n",
              "      box-shadow: 0px 1px 3px 1px rgba(0, 0, 0, 0.15);\n",
              "      filter: drop-shadow(0px 1px 2px rgba(0, 0, 0, 0.3));\n",
              "      fill: #FFFFFF;\n",
              "    }\n",
              "  </style>\n",
              "\n",
              "    <script>\n",
              "      const buttonEl =\n",
              "        document.querySelector('#df-33e1525c-389d-495e-ac30-14a7f4b47961 button.colab-df-convert');\n",
              "      buttonEl.style.display =\n",
              "        google.colab.kernel.accessAllowed ? 'block' : 'none';\n",
              "\n",
              "      async function convertToInteractive(key) {\n",
              "        const element = document.querySelector('#df-33e1525c-389d-495e-ac30-14a7f4b47961');\n",
              "        const dataTable =\n",
              "          await google.colab.kernel.invokeFunction('convertToInteractive',\n",
              "                                                    [key], {});\n",
              "        if (!dataTable) return;\n",
              "\n",
              "        const docLinkHtml = 'Like what you see? Visit the ' +\n",
              "          '<a target=\"_blank\" href=https://colab.research.google.com/notebooks/data_table.ipynb>data table notebook</a>'\n",
              "          + ' to learn more about interactive tables.';\n",
              "        element.innerHTML = '';\n",
              "        dataTable['output_type'] = 'display_data';\n",
              "        await google.colab.output.renderOutput(dataTable, element);\n",
              "        const docLink = document.createElement('div');\n",
              "        docLink.innerHTML = docLinkHtml;\n",
              "        element.appendChild(docLink);\n",
              "      }\n",
              "    </script>\n",
              "  </div>\n",
              "\n",
              "\n",
              "<div id=\"df-d6a1ad42-9e13-4fce-a288-9feb2255a300\">\n",
              "  <button class=\"colab-df-quickchart\" onclick=\"quickchart('df-d6a1ad42-9e13-4fce-a288-9feb2255a300')\"\n",
              "            title=\"Suggest charts\"\n",
              "            style=\"display:none;\">\n",
              "\n",
              "<svg xmlns=\"http://www.w3.org/2000/svg\" height=\"24px\"viewBox=\"0 0 24 24\"\n",
              "     width=\"24px\">\n",
              "    <g>\n",
              "        <path d=\"M19 3H5c-1.1 0-2 .9-2 2v14c0 1.1.9 2 2 2h14c1.1 0 2-.9 2-2V5c0-1.1-.9-2-2-2zM9 17H7v-7h2v7zm4 0h-2V7h2v10zm4 0h-2v-4h2v4z\"/>\n",
              "    </g>\n",
              "</svg>\n",
              "  </button>\n",
              "\n",
              "<style>\n",
              "  .colab-df-quickchart {\n",
              "      --bg-color: #E8F0FE;\n",
              "      --fill-color: #1967D2;\n",
              "      --hover-bg-color: #E2EBFA;\n",
              "      --hover-fill-color: #174EA6;\n",
              "      --disabled-fill-color: #AAA;\n",
              "      --disabled-bg-color: #DDD;\n",
              "  }\n",
              "\n",
              "  [theme=dark] .colab-df-quickchart {\n",
              "      --bg-color: #3B4455;\n",
              "      --fill-color: #D2E3FC;\n",
              "      --hover-bg-color: #434B5C;\n",
              "      --hover-fill-color: #FFFFFF;\n",
              "      --disabled-bg-color: #3B4455;\n",
              "      --disabled-fill-color: #666;\n",
              "  }\n",
              "\n",
              "  .colab-df-quickchart {\n",
              "    background-color: var(--bg-color);\n",
              "    border: none;\n",
              "    border-radius: 50%;\n",
              "    cursor: pointer;\n",
              "    display: none;\n",
              "    fill: var(--fill-color);\n",
              "    height: 32px;\n",
              "    padding: 0;\n",
              "    width: 32px;\n",
              "  }\n",
              "\n",
              "  .colab-df-quickchart:hover {\n",
              "    background-color: var(--hover-bg-color);\n",
              "    box-shadow: 0 1px 2px rgba(60, 64, 67, 0.3), 0 1px 3px 1px rgba(60, 64, 67, 0.15);\n",
              "    fill: var(--button-hover-fill-color);\n",
              "  }\n",
              "\n",
              "  .colab-df-quickchart-complete:disabled,\n",
              "  .colab-df-quickchart-complete:disabled:hover {\n",
              "    background-color: var(--disabled-bg-color);\n",
              "    fill: var(--disabled-fill-color);\n",
              "    box-shadow: none;\n",
              "  }\n",
              "\n",
              "  .colab-df-spinner {\n",
              "    border: 2px solid var(--fill-color);\n",
              "    border-color: transparent;\n",
              "    border-bottom-color: var(--fill-color);\n",
              "    animation:\n",
              "      spin 1s steps(1) infinite;\n",
              "  }\n",
              "\n",
              "  @keyframes spin {\n",
              "    0% {\n",
              "      border-color: transparent;\n",
              "      border-bottom-color: var(--fill-color);\n",
              "      border-left-color: var(--fill-color);\n",
              "    }\n",
              "    20% {\n",
              "      border-color: transparent;\n",
              "      border-left-color: var(--fill-color);\n",
              "      border-top-color: var(--fill-color);\n",
              "    }\n",
              "    30% {\n",
              "      border-color: transparent;\n",
              "      border-left-color: var(--fill-color);\n",
              "      border-top-color: var(--fill-color);\n",
              "      border-right-color: var(--fill-color);\n",
              "    }\n",
              "    40% {\n",
              "      border-color: transparent;\n",
              "      border-right-color: var(--fill-color);\n",
              "      border-top-color: var(--fill-color);\n",
              "    }\n",
              "    60% {\n",
              "      border-color: transparent;\n",
              "      border-right-color: var(--fill-color);\n",
              "    }\n",
              "    80% {\n",
              "      border-color: transparent;\n",
              "      border-right-color: var(--fill-color);\n",
              "      border-bottom-color: var(--fill-color);\n",
              "    }\n",
              "    90% {\n",
              "      border-color: transparent;\n",
              "      border-bottom-color: var(--fill-color);\n",
              "    }\n",
              "  }\n",
              "</style>\n",
              "\n",
              "  <script>\n",
              "    async function quickchart(key) {\n",
              "      const quickchartButtonEl =\n",
              "        document.querySelector('#' + key + ' button');\n",
              "      quickchartButtonEl.disabled = true;  // To prevent multiple clicks.\n",
              "      quickchartButtonEl.classList.add('colab-df-spinner');\n",
              "      try {\n",
              "        const charts = await google.colab.kernel.invokeFunction(\n",
              "            'suggestCharts', [key], {});\n",
              "      } catch (error) {\n",
              "        console.error('Error during call to suggestCharts:', error);\n",
              "      }\n",
              "      quickchartButtonEl.classList.remove('colab-df-spinner');\n",
              "      quickchartButtonEl.classList.add('colab-df-quickchart-complete');\n",
              "    }\n",
              "    (() => {\n",
              "      let quickchartButtonEl =\n",
              "        document.querySelector('#df-d6a1ad42-9e13-4fce-a288-9feb2255a300 button');\n",
              "      quickchartButtonEl.style.display =\n",
              "        google.colab.kernel.accessAllowed ? 'block' : 'none';\n",
              "    })();\n",
              "  </script>\n",
              "</div>\n",
              "\n",
              "    </div>\n",
              "  </div>\n"
            ],
            "application/vnd.google.colaboratory.intrinsic+json": {
              "type": "dataframe",
              "summary": "{\n  \"name\": \"chocolateDf\",\n  \"rows\": 8,\n  \"fields\": [\n    {\n      \"column\": \"Boxes Shipped\",\n      \"properties\": {\n        \"dtype\": \"number\",\n        \"std\": 381.9934437072297,\n        \"min\": 1.0,\n        \"max\": 1094.0,\n        \"num_unique_values\": 8,\n        \"samples\": [\n          161.7979890310786,\n          135.0,\n          1094.0\n        ],\n        \"semantic_type\": \"\",\n        \"description\": \"\"\n      }\n    },\n    {\n      \"column\": \"part\",\n      \"properties\": {\n        \"dtype\": \"number\",\n        \"std\": 386.71666993371065,\n        \"min\": 0.003,\n        \"max\": 1094.0,\n        \"num_unique_values\": 8,\n        \"samples\": [\n          0.16758135283363804,\n          0.021,\n          1094.0\n        ],\n        \"semantic_type\": \"\",\n        \"description\": \"\"\n      }\n    }\n  ]\n}"
            }
          },
          "metadata": {},
          "execution_count": 26
        }
      ]
    },
    {
      "cell_type": "code",
      "source": [
        "chocolateDf.keys()"
      ],
      "metadata": {
        "id": "nBMUkZ8sSl2m",
        "outputId": "1d3ad060-db41-4e52-aad9-49f16bea83b5",
        "colab": {
          "base_uri": "https://localhost:8080/"
        }
      },
      "execution_count": 27,
      "outputs": [
        {
          "output_type": "execute_result",
          "data": {
            "text/plain": [
              "Index(['Sales Person', 'Country', 'Product', 'Date', 'Amount', 'Boxes Shipped',\n",
              "       'part'],\n",
              "      dtype='object')"
            ]
          },
          "metadata": {},
          "execution_count": 27
        }
      ]
    },
    {
      "cell_type": "code",
      "source": [
        "from sklearn.model_selection import train_test_split\n",
        "train_set, test_set = train_test_split(chocolateDf, test_size=0.2, random_state=42)\n",
        "len(test_set)"
      ],
      "metadata": {
        "id": "mXVszshM4eya",
        "outputId": "17d79228-3176-4fe3-9885-fe3bfb74e437",
        "colab": {
          "base_uri": "https://localhost:8080/"
        }
      },
      "execution_count": 21,
      "outputs": [
        {
          "output_type": "execute_result",
          "data": {
            "text/plain": [
              "219"
            ]
          },
          "metadata": {},
          "execution_count": 21
        }
      ]
    },
    {
      "cell_type": "code",
      "source": [
        "len(train_set)\n"
      ],
      "metadata": {
        "id": "m-cFwNyi415y",
        "outputId": "4a9420a0-199e-47f8-dcde-e634862a8ad7",
        "colab": {
          "base_uri": "https://localhost:8080/"
        }
      },
      "execution_count": 22,
      "outputs": [
        {
          "output_type": "execute_result",
          "data": {
            "text/plain": [
              "875"
            ]
          },
          "metadata": {},
          "execution_count": 22
        }
      ]
    },
    {
      "cell_type": "code",
      "source": [],
      "metadata": {
        "id": "HXTSqeET5FY4"
      },
      "execution_count": null,
      "outputs": []
    }
  ]
}