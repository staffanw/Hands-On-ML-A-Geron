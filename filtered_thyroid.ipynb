{
  "nbformat": 4,
  "nbformat_minor": 0,
  "metadata": {
    "colab": {
      "provenance": [],
      "authorship_tag": "ABX9TyMat+SQgIU09Vppjauin6dJ",
      "include_colab_link": true
    },
    "kernelspec": {
      "name": "python3",
      "display_name": "Python 3"
    },
    "language_info": {
      "name": "python"
    }
  },
  "cells": [
    {
      "cell_type": "markdown",
      "metadata": {
        "id": "view-in-github",
        "colab_type": "text"
      },
      "source": [
        "<a href=\"https://colab.research.google.com/github/staffanw/githubTest/blob/main/filtered_thyroid.ipynb\" target=\"_parent\"><img src=\"https://colab.research.google.com/assets/colab-badge.svg\" alt=\"Open In Colab\"/></a>"
      ]
    },
    {
      "cell_type": "code",
      "source": [
        "import os\n",
        "import pandas as pd\n",
        "from zipfile import ZipFile\n",
        "\n",
        "# Step 1: Authenticate\n",
        "# Place kaggle.json in ~/.kaggle/ or set these environment variables\n",
        "os.environ['KAGGLE_USERNAME'] = 'staffanwinter'\n",
        "os.environ['KAGGLE_KEY'] = '636629f94693fac27f01438b51f0fe0b'\n",
        "\n",
        "# Step 2: Download the dataset\n",
        "!kaggle datasets download -d aneevinay/thyroid-cancer-recurrence-dataset -p data --unzip\n",
        "\n",
        "# Step 3: Check the file name\n",
        "print(os.listdir(\"data\"))\n",
        "\n",
        "# Step 4: Load into pandas\n",
        "df = pd.read_csv(\"data/filtered_thyroid_data.csv\")  # Update this filename if it's different\n",
        "print(df.head())"
      ],
      "metadata": {
        "colab": {
          "base_uri": "https://localhost:8080/"
        },
        "id": "RfDfpcMdLEc5",
        "outputId": "8cbdccff-dff7-41c9-dce0-05ac4daba7d8"
      },
      "execution_count": 19,
      "outputs": [
        {
          "output_type": "stream",
          "name": "stdout",
          "text": [
            "Dataset URL: https://www.kaggle.com/datasets/aneevinay/thyroid-cancer-recurrence-dataset\n",
            "License(s): CC-BY-NC-SA-4.0\n",
            "['filtered_thyroid_data.csv']\n",
            "   Age Gender Hx Radiothreapy Adenopathy       Pathology     Focality Risk  \\\n",
            "0   27      F              No         No  Micropapillary    Uni-Focal  Low   \n",
            "1   34      F              No         No  Micropapillary    Uni-Focal  Low   \n",
            "2   30      F              No         No  Micropapillary    Uni-Focal  Low   \n",
            "3   62      F              No         No  Micropapillary    Uni-Focal  Low   \n",
            "4   62      F              No         No  Micropapillary  Multi-Focal  Low   \n",
            "\n",
            "     T   N   M Stage       Response Recurred  \n",
            "0  T1a  N0  M0     I  Indeterminate       No  \n",
            "1  T1a  N0  M0     I      Excellent       No  \n",
            "2  T1a  N0  M0     I      Excellent       No  \n",
            "3  T1a  N0  M0     I      Excellent       No  \n",
            "4  T1a  N0  M0     I      Excellent       No  \n"
          ]
        }
      ]
    }
  ]
}