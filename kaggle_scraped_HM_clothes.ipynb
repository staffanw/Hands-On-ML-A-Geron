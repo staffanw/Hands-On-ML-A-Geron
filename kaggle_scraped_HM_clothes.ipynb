{
  "nbformat": 4,
  "nbformat_minor": 0,
  "metadata": {
    "colab": {
      "provenance": [],
      "authorship_tag": "ABX9TyNhcv9NLTPSeVg6QfJI5QlW",
      "include_colab_link": true
    },
    "kernelspec": {
      "name": "python3",
      "display_name": "Python 3"
    },
    "language_info": {
      "name": "python"
    }
  },
  "cells": [
    {
      "cell_type": "markdown",
      "metadata": {
        "id": "view-in-github",
        "colab_type": "text"
      },
      "source": [
        "<a href=\"https://colab.research.google.com/github/staffanw/Hands-On-ML-A-Geron/blob/main/kaggle_scraped_HM_clothes.ipynb\" target=\"_parent\"><img src=\"https://colab.research.google.com/assets/colab-badge.svg\" alt=\"Open In Colab\"/></a>"
      ]
    },
    {
      "cell_type": "code",
      "execution_count": null,
      "metadata": {
        "id": "X22rC4JvVeae"
      },
      "outputs": [],
      "source": [
        "\n",
        "import sys\n",
        "assert sys.version_info >= (3, 7)\n",
        "from packaging import version\n",
        "import sklearn\n",
        "assert version.parse(sklearn.__version__) >= version.parse(\"1.0.1\")\n",
        "import os\n",
        "import pandas as pd\n",
        "from zipfile import ZipFile\n",
        "scrapedHmDf = pd.DataFrame()\n"
      ]
    },
    {
      "cell_type": "code",
      "source": [
        "# Step 1: Authenticate\n",
        "# Place kaggle.json in ~/.kaggle/ or set these environment variables\n",
        "os.environ['KAGGLE_USERNAME'] = 'staffanwinter'\n",
        "os.environ['KAGGLE_KEY'] = '636629f94693fac27f01438b51f0fe0b'\n",
        "\n",
        "# Step 2: Download the dataset\n",
        "!kaggle datasets download -d niharpatel03/h-and-m-product-dataset -p data --unzip\n",
        "\n",
        "# Step 3: Check the file name\n",
        "print(os.listdir(\"data\"))\n",
        "\n",
        "# Step 4: Load into pandas\n",
        "scrapedHmDf = pd.read_csv(\"data/handm.csv\")  # Update this filename if it's different\n",
        "print(scrapedHmDf.head())"
      ],
      "metadata": {
        "id": "0N7A2hImVs3R"
      },
      "execution_count": null,
      "outputs": []
    },
    {
      "cell_type": "code",
      "source": [
        "scrapedHmDf.info()\n",
        "scrapedHmDf.describe()\n",
        "scrapedHmDf.keys()\n",
        "scrapedHmDf.head()\n",
        "scrapedHmDf.tail()\n",
        "scrapedHmDf.sample(5)\n",
        "scrapedHmDf.shape\n",
        "scrapedHmDf.isnull().sum()\n",
        "scrapedHmDf.duplicated().sum()\n",
        "scrapedHmDf.nunique()\n",
        "scrapedHmDf.dtypes\n",
        "\n",
        "\n"
      ],
      "metadata": {
        "id": "zTOWfNUBWa6e"
      },
      "execution_count": null,
      "outputs": []
    }
  ]
}